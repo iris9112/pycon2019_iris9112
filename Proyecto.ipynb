{
 "cells": [
  {
   "cell_type": "markdown",
   "metadata": {},
   "source": [
    "# Creando una red para analizar los personajes de Juego de Tronos"
   ]
  },
  {
   "cell_type": "markdown",
   "metadata": {},
   "source": [
    "# 1. Se acerca el invierno. Vamos a cargar el conjunto de datos lo antes posible\n",
    "\n",
    "<p> Si no has oído hablar de <em> Juego de Tronos </em>, debes ser realmente bueno escondiéndote!. Juego de Tronos es la popular serie de televisión de HBO basada en la (también) popular serie de libros <em> Una canción de Hielo y Fuego </em> de George R.R. Martin. En este cuaderno, analizaremos la red de co-ocurrencia de los personajes en los libros de Juego de Tronos. Aquí se considera que dos caracteres co-ocurren conjuntamente si sus nombres aparecen cerca de 15 palabras uno del otro en los libros. </p><p> <img src = \"https://s3.amazonaws.com/assets.datacamp.com/production/project_76/img/got_network.jpeg\" style = \"width: 550px\"> </p><p> Este conjunto de datos constituye una red y se proporciona como un archivo de texto que describe las <em> aristas </em> entre los caracteres, con algunos atributos adjuntos a cada arista. Comencemos cargando los datos del primer libro <em> Juego de Tronos </em> y examinémoslo. </p>"
   ]
  },
  {
   "cell_type": "markdown",
   "metadata": {},
   "source": [
    "## Tarea 1\n",
    "\n",
    "Cargue e inspeccione la lista de aristas del primer libro.\n",
    "\n",
    "1. Importar el módulo de pandas.\n",
    "2. Cargue el archivo csv para el libro 1 desde la carpeta `datasets/book1.csv` y asígnelo a book1.\n",
    "3. Imprima la cabecera (las primeras 5 filas por defecto) del DataFrame book1."
   ]
  },
  {
   "cell_type": "code",
   "execution_count": 2,
   "metadata": {},
   "outputs": [],
   "source": [
    "# Importing modules\n",
    "# ... YOUR CODE FOR TASK 1 ...\n",
    "\n",
    "# Reading in datasets/book1.csv\n",
    "book1 = ...\n",
    "\n",
    "# Printing out the head of the dataset\n",
    "# ... YOUR CODE FOR TASK 1 ..."
   ]
  },
  {
   "cell_type": "markdown",
   "metadata": {},
   "source": [
    "# 2. Tiempo para alguna red de tronos\n",
    "\n",
    "<p> El DataFrame <code>book1</code> resultante tiene 5 columnas: <code>Source</code>, <code>Target</code>, <code>Type</code>, <code>weight</code> y <code>book</code>. <code>Source</code> y <code>Target</code> son los dos nodos que están vinculados por una arista. Una red puede tener aristas dirigidas o no dirigidas y en esta red todas las aristas son no dirigidas. El atributo <code>weight</code> de cada arista nos dice la cantidad de interacciones que los personajes han tenido sobre el libro, y la columna <code>book</code> nos dice el número del libro.</p>\n",
    "<p>Una vez que tengamos los datos cargados como un <b>dataframe</b> de pandas, es hora de crear una red. Usaremos <code>networkx</code>, una libreria para el análisis de redes, y crearemos un objeto grafo para el primer libro.</p>"
   ]
  },
  {
   "cell_type": "markdown",
   "metadata": {},
   "source": [
    "## Tarea 2: Instrucciones\n",
    "\n",
    "Crea un grafo para el primer libro.\n",
    "\n",
    "- Importa la libreria `networkx` y dale el alias de `nx`\n",
    "- Crea un grafo vacío y asignalo a la variable `G_book1`\n",
    "\n",
    "Nota para mi:\n",
    "En este caso, creará un objeto `graph` porque la red no está dirigida, es decir, una arista del personaje A al personaje B implica que también existe una de la otra manera, del personaje B al personaje A.\n"
   ]
  },
  {
   "cell_type": "code",
   "execution_count": null,
   "metadata": {},
   "outputs": [],
   "source": [
    "# Importing modules\n",
    "# ... YOUR CODE FOR TASK 2 ...\n",
    "\n",
    "# Creating an empty graph object\n",
    "G_book1 = ..."
   ]
  },
  {
   "cell_type": "markdown",
   "metadata": {},
   "source": [
    "# 3. Rellena la red con el DataFrame\n",
    "\n",
    "<p> Actualmente, el grafo <code> G_book1 </code> está vacío. Ahora rellenémoslo con las aristas de <code> book1 </code>. Y mientras estamos en eso, ¡cargemos el resto de los libros también! </p>"
   ]
  },
  {
   "cell_type": "markdown",
   "metadata": {},
   "source": [
    "## Tarea 3: Instrucciones\n",
    "\n",
    "Agregue información de nodos y aristas a la red para el libro 1:\n",
    "\n",
    "- Iterar a través de las filas del dataframe book1 usando `iterrows()`\n",
    "- Adicionar aristas al objecto `G_book1` usando `add_edge ()`\n",
    "\n",
    "Para poblar el grafo necesitas iterar a través del `book1` para agregar aristas ponderadas al grafo `G_book1` usando `add_edge(source, target, weight=)`.\n",
    "Recuerde que el argumento `weight=` debe nombrarse explícitamente cuando se usa `add_edge`.\n",
    "\n",
    "Cuando recorra el DataFrame, tenga en cuenta que `iterrows()` devuelve una tupla de 2: un índice y un objeto de la serie pandas. Solo necesitas utilizar la segunda parte, es decir, el objeto de la serie pandas para obtener toda la información necesaria para poblar la red.\n",
    "\n",
    "Solo necesitas las columnas source, target, y weight para crear la red de co-ocurrencia de personajes, así que solo agregue esta información a G_book1.\n",
    "\n",
    "Tips:\n",
    "- Aquí hay una pregunta de StackOverflow que explica cómo usar iterrows(): https://stackoverflow.com/questions/16476924/how-to-iterate-over-rows-in-a-dataframe-in-pandas\n",
    "\n",
    "Como queremos analizar los cinco libros, hemos suministrado un código para crear los gráficos de los otros cuatro libros."
   ]
  },
  {
   "cell_type": "code",
   "execution_count": null,
   "metadata": {},
   "outputs": [],
   "source": [
    "# Iterating through the DataFrame to add edges\n",
    "# ... YOUR CODE FOR TASK 3 ...\n",
    "\n",
    "# Creating a list of networks for all the books\n",
    "books = [G_book1]\n",
    "book_fnames = ['datasets/book2.csv', 'datasets/book3.csv', 'datasets/book4.csv', 'datasets/book5.csv']\n",
    "for book_fname in book_fnames:\n",
    "    book = pd.read_csv(book_fname)\n",
    "    G_book = nx.Graph()\n",
    "    for _, edge in book.iterrows():\n",
    "        G_book.add_edge(edge['Source'], edge['Target'], weight=edge['weight'])\n",
    "    books.append(G_book)"
   ]
  },
  {
   "cell_type": "markdown",
   "metadata": {},
   "source": [
    "# 4. Encontrar al personaje más importante en Juego de tronos\n",
    "\n",
    "<p> ¿Es Jon Snow, Tyrion, Daenerys o alguien más? ¡Veamos! Network Science nos ofrece muchas métricas diferentes para medir la importancia de un nodo en una red. Tenga en cuenta que no hay una forma \"correcta\" de calcular el nodo más importante en una red, cada métrica tiene un significado diferente. </p>\n",
    "<p> Primero, midamos la importancia de un nodo en una red observando la cantidad de vecinos que tiene, es decir, la cantidad de nodos a los que está conectado. Por ejemplo, una cuenta influyente en Twitter, donde la relación seguido-seguidores forma la red, es una cuenta que tiene un gran número de seguidores. Esta medida de importancia se denomina <em> grado de centralidad </em>.</p>\n",
    "<p> Usando esta medida, extraigamos los diez primeros personajes importantes del primer libro y el quinto libro.</p>"
   ]
  },
  {
   "cell_type": "markdown",
   "metadata": {},
   "source": [
    "## Tarea 4: Instrucciones\n",
    "\n",
    "Encuentra los personajes más importantes según el grado de centralidad.\n",
    "\n",
    "- Usa `nx.degree_centrality(graph)` para calcular la centralidad de todos los nodos para el primer libro y el quinto libro.\n",
    "- Ordene los diccionarios resultantes `deg_cen_book1` y `deg_cen_book5` de acuerdo con valores decrecientes y almacene los 10 principales en `sorted_deg_cen_book1` y `sorted_deg_cen_book5`.\n",
    "\n",
    "Para calcular el grado de centralidad, a cada nodo se le asigna un número entre 0 y 1 al calcular el grado (el número de vecinos) y al normalizarlo por el número total posible de vecinos, es decir, `n - 1`, donde `n` es el número de nodos en la red.\n",
    "\n",
    "Vea esta respuesta de StackOverflow para saber cómo ordenar un diccionario en python: https://stackoverflow.com/a/2258273"
   ]
  },
  {
   "cell_type": "code",
   "execution_count": null,
   "metadata": {},
   "outputs": [],
   "source": [
    "# Calculating the degree centrality of book 1\n",
    "deg_cen_book1 = nx.degree_centrality(books[0])\n",
    "\n",
    "# Calculating the degree centrality of book 5\n",
    "deg_cen_book5 = ...\n",
    "\n",
    "# Sorting the dictionaries according to their degree centrality and storing the top 10\n",
    "sorted_deg_cen_book1 = ...\n",
    "\n",
    "# Sorting the dictionaries according to their degree centrality and storing the top 10\n",
    "sorted_deg_cen_book5 = ...\n",
    "\n",
    "# Printing out the top 10 of book1 and book5\n",
    "# ... YOUR CODE FOR TASK 4 ..."
   ]
  },
  {
   "cell_type": "markdown",
   "metadata": {},
   "source": [
    "# 5. Evolución de la importancia de los personajes sobre los libros\n",
    "\n",
    "<p> Según el grado de centralidad, el personaje más importante en el primer libro es Eddard Stark, pero ni siquiera está en el top 10 del quinto libro. La importancia de los personajes cambia a lo largo de cinco libros porque, ya sabes, pasan cosas ...;) </p>\n",
    "<p> Veamos la evolución del grado de centralidad de un par de personajes como Eddard Stark, Jon Snow y Tyrion, que aparecieron en el top 10 del grado de centralidad en el primer libro. </p>"
   ]
  },
  {
   "cell_type": "markdown",
   "metadata": {},
   "source": [
    "## Tarea 5: Instrucciones\n",
    "\n",
    "Grafica la evolución del grado de centralidad sobre los libros para algunos de los personajes.\n",
    "\n",
    "- La lista `evol` contiene el grado de centralidad de todos los grafos\n",
    "- Crea un dataframe con el nombre de los personakes como columnas y el numero del libro como indice, donde cada entrada es el grado de centralidad del personaje en ese libro en particular usando `pd.DataFrame.from_records`\n",
    "- Grafica las columnas Eddard-Stark, Tyrion-Lannister, Jon-Snow desde el DataFrame `degree_evol_df` usando .plot()\n",
    "\n",
    "Se le da una lista de evolución que contiene la centralidad de los grados calculados de todos los libros."
   ]
  },
  {
   "cell_type": "code",
   "execution_count": null,
   "metadata": {},
   "outputs": [],
   "source": [
    "%matplotlib inline\n",
    "\n",
    "# Creating a list of degree centrality of all the books\n",
    "evol = [nx.degree_centrality(book) for book in books]\n",
    " \n",
    "# Creating a DataFrame from the list of degree centralities in all the books\n",
    "degree_evol_df = ...\n",
    "\n",
    "# Plotting the degree centrality evolution of Eddard-Stark, Tyrion-Lannister and Jon-Snow\n",
    "# ... YOUR CODE FOR TASK 5 ..."
   ]
  },
  {
   "cell_type": "markdown",
   "metadata": {},
   "source": [
    "# 6. ¿Qué pasa con Stannis Baratheon?\n",
    "\n",
    "<p>Podemos ver que la importancia de Eddard Stark desaparece a medida que avanza la serie de libros. Con Jon Snow, hay una caída en el cuarto libro, pero un aumento repentino en el quinto libro.</p>\n",
    "<p>Ahora veamos otras medidas como <em>intermediación (betweenness centrality)</em> y <em>PageRank</em> para encontrar personajes importantes en nuestra red de co-ocurrencia de personajes de Juego de Tronos y ver si podemos descubrir algunos datos más interesantes sobre esta red. Vamos a trazar la evolución de la centralidad de la intermediación de esta red en los cinco libros. Tomaremos la evolución de los cuatro personajes principales de cada libro y lo graficaremos.</p>"
   ]
  },
  {
   "cell_type": "markdown",
   "metadata": {},
   "source": [
    "## Tarea 6: Instrucciones\n",
    "\n",
    "Encontrar la importancia y la evolución de los personajes según la medida de centralidad de intermediación.\n",
    "\n",
    "- Use `nx.betweenness_centrality(graph, weight='weight')` para calcular la medida de centralidad de intermediación ponderada de todos los libros\n",
    "- Cree un DataFrame `betweenness_evol_df` como en la tarea anterior, pero esta vez hazlo para la medida de intermediación\n",
    "- Se te ha dado un código que encuentra los 4 primeros personajes de cada libro y los coloca en `list_of_char`\n",
    "- Grafica las columnas en `list_of_char` in the DataFrame `betweenness_evol_df ` usando .plot() con el argumento `figsize=(13, 7)`.\n",
    "\n",
    "Recuerda usar `.fillna(0)` al crear `betweenness_evol_df` ya que es posible que no haya un personaje en todos los libros. Esto daría como resultado entradas de NaN y para evitarlo, reemplazamos NaN con 0.\n",
    "\n",
    "**Tip:**\n",
    "La intuición detrás de la centralidad de intermediación es encontrar nodos que mantengan la red unida, es decir, que si eliminas tal nodo, estás rompiendo la red. De una manera más matemática, la centralidad de interrelación se calcula encontrando las rutas más cortas entre todos los pares de nodos y encontrando el nodo a través del cual pasan la mayoría de las rutas.\n"
   ]
  },
  {
   "cell_type": "code",
   "execution_count": null,
   "metadata": {},
   "outputs": [],
   "source": [
    "# Creating a list of betweenness centrality of all the books just like we did for degree centrality\n",
    "evol = ...\n",
    "\n",
    "# Making a DataFrame from the list\n",
    "betweenness_evol_df = ...\n",
    "\n",
    "# Finding the top 4 characters in every book\n",
    "set_of_char = set()\n",
    "for i in range(5):\n",
    "    set_of_char |= set(list(betweenness_evol_df.T[i].sort_values(ascending=False)[0:4].index))\n",
    "list_of_char = list(set_of_char)\n",
    "\n",
    "# Plotting the evolution of the top characters\n",
    "# ... YOUR CODE FOR TASK 6 ..."
   ]
  },
  {
   "cell_type": "markdown",
   "metadata": {},
   "source": [
    "# 7. ¿Qué nos dice el algoritmo de PageRank de Google sobre Juego de Tronos?\n",
    "\n",
    "<p>Vemos un aumento peculiar en la importancia de Stannis Baratheon sobre los libros. En el quinto libro, es significativamente más importante que otros personajes de la red, incluso es el tercer personaje más importante según el grado de centralidad.</p>\n",
    "\n",
    "<p>PageRank fue la forma inicial en que Google clasificó las páginas web. Evalúa los enlaces internos y externos de las páginas web en la red mundial, que es, esencialmente, una red dirigida. Veamos la importancia de los personajes en la red de Juego de Tronos según el algoritmo PageRank.</p>"
   ]
  },
  {
   "cell_type": "markdown",
   "metadata": {},
   "source": [
    "## Tarea 7: Instrucciones\n",
    "\n",
    "Encuentra la importancia y evolución de los personajes según el algoritmo PageRank.\n",
    "\n",
    "- Repita la tarea anterior para PageRank utilizando `nx.pagerank()` y cree una lista de medidas de PageRank para todos los libros.\n",
    "- Crea un dataframe usando `pd.DataFrame.from_records`\n",
    "- Grafica las columnas en `list_of_char` in the DataFrame `evol_df` usando .plot() con el argumento `figsize=(13, 7)`."
   ]
  },
  {
   "cell_type": "code",
   "execution_count": null,
   "metadata": {},
   "outputs": [],
   "source": [
    "# Creating a list of pagerank of all the characters in all the books\n",
    "evol = ...\n",
    "\n",
    "# Making a DataFrame from the list\n",
    "pagerank_evol_df = ...\n",
    "\n",
    "# Finding the top 4 characters in every book\n",
    "set_of_char = set()\n",
    "for i in range(5):\n",
    "    set_of_char |= set(list(pagerank_evol_df.T[i].sort_values(ascending=False)[0:4].index))\n",
    "list_of_char = list(set_of_char)\n",
    "\n",
    "# Plotting the top characters\n",
    "# ... YOUR CODE FOR TASK 7 ..."
   ]
  },
  {
   "cell_type": "markdown",
   "metadata": {},
   "source": [
    "# 8. Correlación entre diferentes medidas\n",
    "\n",
    "<p>Stannis, Jon Snow y Daenerys son los personajes más importantes del quinto libro según PageRank. Eddard Stark sigue una curva similar, pero para el grado de centralidad y de intermediación: es importante en el primer libro, pero muere en el olvido por la serie de libros.</p>\n",
    "<p>Hemos visto tres medidas diferentes para calcular la importancia de un nodo en una red, y todas ellas nos dicen algo sobre los personajes y su importancia en la red de co-ocurrencia. Vemos algunos nombres que aparecen en las tres medidas, así que tal vez haya una fuerte correlación entre ellos.</p>\n",
    "<p>Veamos la correlación entre el PageRank, la intermediación y el grado de centralidad para el quinto libro utilizando la correlación de Pearson.</p>"
   ]
  },
  {
   "cell_type": "markdown",
   "metadata": {},
   "source": [
    "## Tarea 8: instrucciones\n",
    "\n",
    "Encuentra la correlación entre los tres métodos para medir la importancia\n",
    "\n",
    "- Crea un dataframe usando `pd.DataFrame.from_records` usando la lista de todas las medidas `measures` para el quinto libro, y asignalo a `cor`\n",
    "- Calcula la correlación usando `.corr()`\n",
    "\n",
    "Asegúrate de tomar la transposición del DataFrame `cor`, esto es `cor.T` Primero antes de calcular la correlación, de lo contrario obtendrá la correlación entre los personajes y no la correlación entre las medidas."
   ]
  },
  {
   "cell_type": "code",
   "execution_count": null,
   "metadata": {},
   "outputs": [],
   "source": [
    "# Creating a list of pagerank, betweenness centrality, degree centrality\n",
    "# of all the characters in the fifth book.\n",
    "measures = [nx.pagerank(books[4]), \n",
    "            nx.betweenness_centrality(books[4], weight='weight'), \n",
    "            nx.degree_centrality(books[4])]\n",
    "\n",
    "# Creating the correlation DataFrame\n",
    "cor = ...\n",
    "\n",
    "# Calculating the correlation\n",
    "# ... YOUR CODE FOR TASK 8 ..."
   ]
  },
  {
   "cell_type": "markdown",
   "metadata": {},
   "source": [
    "# 9. Conclusión \n",
    "\n",
    "<p>Vemos una alta correlación entre estas tres medidas para nuestra red de co-ocurrencia de personajes.</p>\n",
    "<p> Así que hemos estado buscando diferentes maneras de encontrar a los personajes importantes en la red de co-ocurrencia de Juego de Tronos. Según el grado de centralidad, Eddard Stark es el personaje más importante inicialmente en los libros. Pero, ¿quién es o son los personajes más importantes en el quinto libro según estas tres medidas? </p>"
   ]
  },
  {
   "cell_type": "markdown",
   "metadata": {},
   "source": [
    "## Tarea 9: instrucciones\n",
    "\n",
    "- Use el DataFrame `cor` para encontrar el personaje más importante en el quinto libro según el grado de centralidad, la intermediación y el algoritmo PageRank.\n",
    "- Imprima el o los personajes superiores de acuerdo con estas tres medidas.\n",
    "\n",
    "Tips: http://pandas.pydata.org/pandas-docs/version/0.17.0/generated/pandas.DataFrame.idxmax.html"
   ]
  },
  {
   "cell_type": "code",
   "execution_count": null,
   "metadata": {},
   "outputs": [],
   "source": [
    "# Finding the most important character in the fifth book,  \n",
    "# according to degree centrality, betweenness centrality and pagerank.\n",
    "p_rank, b_cent, d_cent = ...\n",
    "\n",
    "# Printing out the top character accoding to the three measures\n",
    "# ... YOUR CODE FOR TASK 9 ..."
   ]
  }
 ],
 "metadata": {
  "kernelspec": {
   "display_name": "Python 3",
   "language": "python",
   "name": "python3"
  },
  "language_info": {
   "codemirror_mode": {
    "name": "ipython",
    "version": 3
   },
   "file_extension": ".py",
   "mimetype": "text/x-python",
   "name": "python",
   "nbconvert_exporter": "python",
   "pygments_lexer": "ipython3",
   "version": "3.7.0"
  }
 },
 "nbformat": 4,
 "nbformat_minor": 2
}
